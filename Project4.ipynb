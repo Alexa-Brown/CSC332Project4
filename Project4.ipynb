{
 "cells": [
  {
   "cell_type": "code",
   "execution_count": null,
   "id": "16378ad7-f24d-4a4c-84ac-4e069118793b",
   "metadata": {},
   "outputs": [],
   "source": [
    "#adapted from https://create.arduino.cc/projecthub/shubhamsantosh99/joystick-controlled-mouse-af2939\n",
    "import serial\n",
    "import pyautogui as pg\n",
    "import mouse, sys\n",
    "import time \n",
    "import screen_brightness_control as sbc\n",
    "\n",
    "\n",
    "mouse.FAILSAFE=False\n",
    "ArduinoSerial=serial.Serial('COM9',9600)  #Specify the correct COM port\n",
    "time.sleep(1)                             #delay of 1 second\n",
    "\n",
    "while 1:\n",
    "   \n",
    "        #get current brightness value\n",
    "    current_brightness = sbc.get_brightness()\n",
    "    previous_brightness = \"[0]\"\n",
    "    #print(current_brightness)\n",
    "    #if '100' in bright:\n",
    "        #sbc.set_brightness(100)\n",
    "    #if '10' in bright:\n",
    "        #sbc.set_brightness(10)\n",
    "    \n",
    "    data=str(ArduinoSerial.readline().decode('ascii'))   #read the data\n",
    "   # print('in read data')\n",
    "    (x,y,z,f,bright)=data.split(\":\")           # assigns to x,y,z,f\n",
    "    \n",
    "    \n",
    "    if current_brightness != previous_brightness:\n",
    "        sbc.set_brightness(bright)\n",
    "    previous_brightness = current_brightness\n",
    "    \n",
    "   \n",
    "    \n",
    "    (X,Y)=mouse.get_position()        #read the cursor's current position\n",
    "    (x,y)=(int(x),int(y))                           #convert to int\n",
    "    mouse.move(X+x,Y+y)           #move cursor to desired position\n",
    "    if '1' in z:                        # read the Status of left button\n",
    "        mouse.click(button=\"left\")    # clicks left button\n",
    "        #print('left click')\n",
    "    if '1' in f:                        # read the Status of right button\n",
    "        mouse.click(button=\"right\")    # clicks right button\n",
    "       # print('right click')\n",
    "   \n",
    "     "
   ]
  },
  {
   "cell_type": "code",
   "execution_count": null,
   "id": "cf882fa9-3997-4500-8aec-a61d21262f60",
   "metadata": {},
   "outputs": [],
   "source": []
  }
 ],
 "metadata": {
  "kernelspec": {
   "display_name": "Python 3 (ipykernel)",
   "language": "python",
   "name": "python3"
  },
  "language_info": {
   "codemirror_mode": {
    "name": "ipython",
    "version": 3
   },
   "file_extension": ".py",
   "mimetype": "text/x-python",
   "name": "python",
   "nbconvert_exporter": "python",
   "pygments_lexer": "ipython3",
   "version": "3.10.2"
  }
 },
 "nbformat": 4,
 "nbformat_minor": 5
}
